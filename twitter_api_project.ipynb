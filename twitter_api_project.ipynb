{
 "cells": [
  {
   "cell_type": "code",
   "execution_count": 9,
   "id": "9fc9c997",
   "metadata": {},
   "outputs": [
    {
     "name": "stdout",
     "output_type": "stream",
     "text": [
      "Requirement already satisfied: requests in c:\\users\\gadir\\anaconda3\\lib\\site-packages (2.28.1)\n",
      "Requirement already satisfied: idna<4,>=2.5 in c:\\users\\gadir\\anaconda3\\lib\\site-packages (from requests) (3.2)\n",
      "Requirement already satisfied: certifi>=2017.4.17 in c:\\users\\gadir\\anaconda3\\lib\\site-packages (from requests) (2021.10.8)\n",
      "Requirement already satisfied: urllib3<1.27,>=1.21.1 in c:\\users\\gadir\\anaconda3\\lib\\site-packages (from requests) (1.26.7)\n",
      "Requirement already satisfied: charset-normalizer<3,>=2 in c:\\users\\gadir\\anaconda3\\lib\\site-packages (from requests) (2.0.4)\n"
     ]
    }
   ],
   "source": [
    "!pip install requests"
   ]
  },
  {
   "cell_type": "code",
   "execution_count": 10,
   "id": "ec1d2076",
   "metadata": {},
   "outputs": [],
   "source": [
    "import requests\n",
    "import json"
   ]
  },
  {
   "cell_type": "code",
   "execution_count": 11,
   "id": "674f4567",
   "metadata": {},
   "outputs": [],
   "source": [
    "url= \"https://api.ipify.org/\""
   ]
  },
  {
   "cell_type": "code",
   "execution_count": 12,
   "id": "05c6877c",
   "metadata": {},
   "outputs": [
    {
     "data": {
      "text/plain": [
       "<Response [200]>"
      ]
     },
     "execution_count": 12,
     "metadata": {},
     "output_type": "execute_result"
    }
   ],
   "source": [
    "response= requests.get(url)\n",
    "response"
   ]
  },
  {
   "cell_type": "code",
   "execution_count": 13,
   "id": "647b11b3",
   "metadata": {},
   "outputs": [
    {
     "data": {
      "text/plain": [
       "'49.37.158.234'"
      ]
     },
     "execution_count": 13,
     "metadata": {},
     "output_type": "execute_result"
    }
   ],
   "source": [
    "response.text"
   ]
  },
  {
   "cell_type": "markdown",
   "id": "1a0becd9",
   "metadata": {},
   "source": [
    "# Getting 'omicron' tweets"
   ]
  },
  {
   "cell_type": "code",
   "execution_count": 14,
   "id": "16eee688",
   "metadata": {},
   "outputs": [
    {
     "name": "stdout",
     "output_type": "stream",
     "text": [
      "Requirement already satisfied: tweepy in c:\\users\\gadir\\anaconda3\\lib\\site-packages (4.10.1)\n",
      "Requirement already satisfied: requests-oauthlib<2,>=1.2.0 in c:\\users\\gadir\\anaconda3\\lib\\site-packages (from tweepy) (1.3.1)\n",
      "Requirement already satisfied: oauthlib<4,>=3.2.0 in c:\\users\\gadir\\anaconda3\\lib\\site-packages (from tweepy) (3.2.0)\n",
      "Requirement already satisfied: requests<3,>=2.27.0 in c:\\users\\gadir\\anaconda3\\lib\\site-packages (from tweepy) (2.28.1)\n",
      "Requirement already satisfied: certifi>=2017.4.17 in c:\\users\\gadir\\anaconda3\\lib\\site-packages (from requests<3,>=2.27.0->tweepy) (2021.10.8)\n",
      "Requirement already satisfied: urllib3<1.27,>=1.21.1 in c:\\users\\gadir\\anaconda3\\lib\\site-packages (from requests<3,>=2.27.0->tweepy) (1.26.7)\n",
      "Requirement already satisfied: charset-normalizer<3,>=2 in c:\\users\\gadir\\anaconda3\\lib\\site-packages (from requests<3,>=2.27.0->tweepy) (2.0.4)\n",
      "Requirement already satisfied: idna<4,>=2.5 in c:\\users\\gadir\\anaconda3\\lib\\site-packages (from requests<3,>=2.27.0->tweepy) (3.2)\n"
     ]
    }
   ],
   "source": [
    "!pip install tweepy"
   ]
  },
  {
   "cell_type": "code",
   "execution_count": 15,
   "id": "df1e4179",
   "metadata": {},
   "outputs": [],
   "source": [
    "import tweepy"
   ]
  },
  {
   "cell_type": "code",
   "execution_count": 16,
   "id": "e6b24e1d",
   "metadata": {},
   "outputs": [],
   "source": [
    "client=tweepy.Client(bearer_token='AAAAAAAAAAAAAAAAAAAAAOruggEAAAAA6n37KTmQomGPXUeJZvJnXy93Q2U%3Dw9J4gpV10TNH1fxVyqhdzUhvZbkYmzh20agCCdgVWYKgLMffKg')"
   ]
  },
  {
   "cell_type": "markdown",
   "id": "f227294e",
   "metadata": {},
   "source": [
    "#  Extract Tweets From An Account"
   ]
  },
  {
   "cell_type": "code",
   "execution_count": 18,
   "id": "0795a3a5",
   "metadata": {},
   "outputs": [
    {
     "name": "stdout",
     "output_type": "stream",
     "text": [
      "39\n"
     ]
    }
   ],
   "source": [
    "query = 'from:scaler_official -is:retweet'\n",
    "tweets = client.search_recent_tweets(query=query, tweet_fields = ['created_at', 'author_id'], \n",
    "                                     max_results=100)\n",
    "print(len(tweets.data))"
   ]
  },
  {
   "cell_type": "code",
   "execution_count": 19,
   "id": "2e63bb4b",
   "metadata": {},
   "outputs": [
    {
     "name": "stdout",
     "output_type": "stream",
     "text": [
      "@IQinfiNIT @Naman_Bhalla @asxna @_anshuman26 Hi Rishabh! Our team is currently working on resolving this issue. Requesting your patience in the meantime. 😊\n",
      "1194875574331699200\n",
      "------\n",
      "#happyteachersday https://t.co/dGvf7hJQVt\n",
      "1194875574331699200\n",
      "------\n",
      "How many of these movies have you seen already? Tell us your favorites in the comments down below👇🏻\n",
      " \n",
      "#SCALER #DataScience #MachineLearning\n",
      "1194875574331699200\n",
      "------\n",
      "Upskill\n",
      "1194875574331699200\n",
      "------\n",
      "\"Sorry sir, we've canceled your flight. Please accept a gift card worth $$$.\" But why? 😤 \n",
      "The reason usually is OVERBOOKING.\n",
      "\n",
      "Here's a peep at EP 4 of #DataBro, where Guru shows how data plays a big role in overbooked flights. \n",
      "\n",
      "#SCALEROriginals @thejordindian https://t.co/hz7hJaBGKQ\n",
      "1194875574331699200\n",
      "------\n",
      "Try these tips at your next #hackathon!\n",
      "\n",
      "Comment below if you have more useful tips👇\n",
      "\n",
      "#CreateImpact\n",
      "1194875574331699200\n",
      "------\n",
      "Takeaways from Saumya's hackathon preparation💯 https://t.co/wsV0sG9Xes\n",
      "1194875574331699200\n",
      "------\n",
      "Insightful hacks for hackathon🧠 https://t.co/zTwG0RzoIS\n",
      "1194875574331699200\n",
      "------\n",
      "How did hackathons help @saumya1singh?💻 https://t.co/k6YlzR1pXu\n",
      "1194875574331699200\n",
      "------\n",
      "Are third-party libraries allowed in hackathons❓ https://t.co/DnqocLMJJG\n",
      "1194875574331699200\n",
      "------\n",
      "Go team or go solo? 🤔 https://t.co/Ks17Ka7ZN4\n",
      "1194875574331699200\n",
      "------\n",
      "3️⃣ takeaways from hackathons- https://t.co/w9CdjKyg3L\n",
      "1194875574331699200\n",
      "------\n",
      "Saumya Singh ( @saumya1singh ), Associate Software Engineer at Red Hat and the winner of the Smart India Hackathon, is here to give you some exclusive insights on how you should prepare for your next hackathon.\n",
      "\n",
      "A thread 🧵👇\n",
      "1194875574331699200\n",
      "------\n",
      "@_KarunKarthik_ That's amazing, keep up the great work!👌🏻 We are so excited for you to complete more milestones! 😃\n",
      "1194875574331699200\n",
      "------\n",
      "@GeekyxTechie That's amazing, keep up the great work!👌🏻 We are so excited for you to complete more milestones! 😃\n",
      "1194875574331699200\n",
      "------\n",
      "@msmanup Hi, Manu. This is not the experience we aim to provide, and we value our relationship with our customers. Please reach out to us on DM with the issue you're facing along with your registered email ID and contact details, we will look into it and assist you in best way possible.\n",
      "1194875574331699200\n",
      "------\n",
      "Then join our Live Session on Data Science with one of our top mentors.\n",
      "\n",
      "#Staytuned on our YouTube and LinkedIn pages. https://t.co/O3UkWgGzlT\n",
      "1194875574331699200\n",
      "------\n",
      "Are you looking for someone to guide you through planning your career in Data Science?\n",
      "1194875574331699200\n",
      "------\n",
      "Do you find yourself wandering aimlessly on random blogs, articles, and websites to find the right career guidance?\n",
      "1194875574331699200\n",
      "------\n",
      "@aman_singh_1999 Hi Aman, this wasn't supposed to happen and we're here to help. We would like to connect with you over DM and understand how we can help you. Please do reach out to us with your contact details, and we'll surely assist you further. https://t.co/5hQ0ZeE0vn\n",
      "1194875574331699200\n",
      "------\n",
      "@ExtractGuy We are sorry to hear that you feel that way.🙁. Please connect with us via DM and share your contact details along with your concern.\n",
      "1194875574331699200\n",
      "------\n",
      "⚠️Warning: Bug trespassing will not be tolerated on codes.\n",
      "\n",
      "#CreateImpact #SCALERComics https://t.co/KVxUnd5C9N\n",
      "1194875574331699200\n",
      "------\n",
      "Have you ever wondered why you don't get right swipes on dating apps, even if you do, you end up with a ‘meh’ date? \n",
      "\n",
      "Here's a peep at episode 7 of #OneByteAtATime, where we explain the mechanism behind dating apps like Tinder, Hinge, etc.\n",
      "\n",
      "#SCALEROriginals https://t.co/KXn3oW6SwZ\n",
      "1194875574331699200\n",
      "------\n",
      "@ankur_adhyapak Hi Ankur Adhyapak, thank you for reaching out. This number and profile belongs to one of our Mentors. If you have queries, please send us a message over DM and we'll help you out! 😊\n",
      "1194875574331699200\n",
      "------\n",
      "@shklnrj This is not the experience we aim to provide, and we value our relationship with our customers. Please reach out to us on DM with the issue you're facing and your contact details, we will look into it and assist you in best way possible.\n",
      "1194875574331699200\n",
      "------\n",
      "https://t.co/GwEH8DItYM\n",
      "1194875574331699200\n",
      "------\n",
      "Register Here: https://t.co/VKi8K4ryNT https://t.co/uQQm8FficK\n",
      "1194875574331699200\n",
      "------\n",
      "Kolkata, “City of Culture” we are coming to your town with the aim to expand our offline community and build a tech culture.\n",
      "We promise you a meetup to remember with #Codersoffline.\n",
      "\n",
      "#CreateImpact\n",
      "1194875574331699200\n",
      "------\n",
      "@akshaym80707600 Hello Akshay Mehta. This is not the experience we aim to provide, and we value our relationship with our customers. Please reach out to us on DM with the issue you're facing and your contact details, we will look into it and assist you in best way possible.\n",
      "1194875574331699200\n",
      "------\n",
      "@Khushi_Ray_ Hi Khushi, we're super excited to see your interest in learning at Scaler! Please head over to the following link to register for a call back and our team will reach out to you soon: https://t.co/JLLo6waGLs\n",
      "1194875574331699200\n",
      "------\n",
      "From being schooled at a Hindi medium school in her hometown to landing her dream job as a Computer Scientist in Adobe, Mohini is happy with the return on investment she got by joining us. Hear her inspiring story. \n",
      "\n",
      "#BehindTheWin #SCALER #CreateImpact https://t.co/XdFw8DxR7X\n",
      "1194875574331699200\n",
      "------\n",
      "@_JyotiSharma__ help you out with any queries you may have. (2/2)\n",
      "1194875574331699200\n",
      "------\n",
      "@_JyotiSharma__ Hi Jyoti, science background is not required to enroll in this course. You can start from the Beginner module in which we will cover the basics of coding. Also, please share your contact details via support@scaler.com, so that our team can connect with you and (1/2)\n",
      "1194875574331699200\n",
      "------\n",
      "@Radha_Shingh_ you and help you out with any queries you may have. (2/2)\n",
      "1194875574331699200\n",
      "------\n",
      "@Radha_Shingh_ Hi Radha Shingh, coding background is not required to enroll in this course. You can start from the Beginner module in which we will cover the basics of coding. Also, please share your contact details via support@scaler.com, so that our team can connect with (1/2)\n",
      "1194875574331699200\n",
      "------\n",
      "@SonalShingh Hi Sonal, we're super excited to see your interest in learning at Scaler! Please head over to the following link to register for a call back and our team will reach out to you soon: https://t.co/JLLo6waGLs\n",
      "1194875574331699200\n",
      "------\n",
      "@_NeelamSharma_ Hi Neelam Sharma, we're super excited to see your interest in learning at Scaler! Please head over to the following link to register for a call back and our team will reach out to you soon: https://t.co/JLLo6waGLs\n",
      "1194875574331699200\n",
      "------\n",
      "@Nidhi_Roy_ Hi Nidhi, we're super excited to see your interest in learning at Scaler! We do conduct free live classes and you can head over to the following link to sign-up for them and to know more about them: https://t.co/5aljjkifyp\n",
      "1194875574331699200\n",
      "------\n",
      "@Im_Muskan___ Hi Muskan, we're super excited to see your interest in learning at Scaler! Please head over to the following link to register for a call back and our team will reach out to you soon: https://t.co/JLLo6waGLs\n",
      "1194875574331699200\n",
      "------\n"
     ]
    }
   ],
   "source": [
    "for tweet in tweets.data:\n",
    "    print(tweet.text)\n",
    "    print(tweet.author_id)\n",
    "    print(\"------\")"
   ]
  },
  {
   "cell_type": "code",
   "execution_count": 20,
   "id": "fc3ce509",
   "metadata": {},
   "outputs": [
    {
     "data": {
      "text/plain": [
       "Response(data=[<Tweet id=1566662157726523396 text='@IQinfiNIT @Naman_Bhalla @asxna @_anshuman26 Hi Rishabh! Our team is currently working on resolving this issue. Requesting your patience in the meantime. 😊'>, <Tweet id=1566661893947011073 text='#happyteachersday https://t.co/dGvf7hJQVt'>, <Tweet id=1566289957395648515 text='How many of these movies have you seen already? Tell us your favorites in the comments down below👇🏻\\n \\n#SCALER #DataScience #MachineLearning'>, <Tweet id=1566028557599805440 text='Upskill'>, <Tweet id=1565948057010995200 text='\"Sorry sir, we\\'ve canceled your flight. Please accept a gift card worth $$$.\" But why? 😤 \\nThe reason usually is OVERBOOKING.\\n\\nHere\\'s a peep at EP 4 of #DataBro, where Guru shows how data plays a big role in overbooked flights. \\n\\n#SCALEROriginals @thejordindian https://t.co/hz7hJaBGKQ'>, <Tweet id=1565704835181453312 text='Try these tips at your next #hackathon!\\n\\nComment below if you have more useful tips👇\\n\\n#CreateImpact'>, <Tweet id=1565702812918775814 text=\"Takeaways from Saumya's hackathon preparation💯 https://t.co/wsV0sG9Xes\">, <Tweet id=1565702768102612993 text='Insightful hacks for hackathon🧠 https://t.co/zTwG0RzoIS'>, <Tweet id=1565702697680269312 text='How did hackathons help @saumya1singh?💻 https://t.co/k6YlzR1pXu'>, <Tweet id=1565702641409490946 text='Are third-party libraries allowed in hackathons❓ https://t.co/DnqocLMJJG'>, <Tweet id=1565702597901979648 text='Go team or go solo? 🤔 https://t.co/Ks17Ka7ZN4'>, <Tweet id=1565702550237880320 text='3️⃣ takeaways from hackathons- https://t.co/w9CdjKyg3L'>, <Tweet id=1565702511436398593 text='Saumya Singh ( @saumya1singh ), Associate Software Engineer at Red Hat and the winner of the Smart India Hackathon, is here to give you some exclusive insights on how you should prepare for your next hackathon.\\n\\nA thread 🧵👇'>, <Tweet id=1565664048636694528 text=\"@_KarunKarthik_ That's amazing, keep up the great work!👌🏻 We are so excited for you to complete more milestones! 😃\">, <Tweet id=1565610457066610689 text=\"@GeekyxTechie That's amazing, keep up the great work!👌🏻 We are so excited for you to complete more milestones! 😃\">, <Tweet id=1565601328088244225 text=\"@msmanup Hi, Manu. This is not the experience we aim to provide, and we value our relationship with our customers. Please reach out to us on DM with the issue you're facing along with your registered email ID and contact details, we will look into it and assist you in best way possible.\">, <Tweet id=1565350954064818177 text='Then join our Live Session on Data Science with one of our top mentors.\\n\\n#Staytuned on our YouTube and LinkedIn pages. https://t.co/O3UkWgGzlT'>, <Tweet id=1565350948180226048 text='Are you looking for someone to guide you through planning your career in Data Science?'>, <Tweet id=1565350946330525704 text='Do you find yourself wandering aimlessly on random blogs, articles, and websites to find the right career guidance?'>, <Tweet id=1565346109924732928 text=\"@aman_singh_1999 Hi Aman, this wasn't supposed to happen and we're here to help. We would like to connect with you over DM and understand how we can help you. Please do reach out to us with your contact details, and we'll surely assist you further. https://t.co/5hQ0ZeE0vn\">, <Tweet id=1565324686573060097 text='@ExtractGuy We are sorry to hear that you feel that way.🙁. Please connect with us via DM and share your contact details along with your concern.'>, <Tweet id=1565218580245127168 text='⚠️Warning: Bug trespassing will not be tolerated on codes.\\n\\n#CreateImpact #SCALERComics https://t.co/KVxUnd5C9N'>, <Tweet id=1564869113532493826 text=\"Have you ever wondered why you don't get right swipes on dating apps, even if you do, you end up with a ‘meh’ date? \\n\\nHere's a peep at episode 7 of #OneByteAtATime, where we explain the mechanism behind dating apps like Tinder, Hinge, etc.\\n\\n#SCALEROriginals https://t.co/KXn3oW6SwZ\">, <Tweet id=1564585427314659335 text=\"@ankur_adhyapak Hi Ankur Adhyapak, thank you for reaching out. This number and profile belongs to one of our Mentors. If you have queries, please send us a message over DM and we'll help you out! 😊\">, <Tweet id=1564583491223932928 text=\"@shklnrj This is not the experience we aim to provide, and we value our relationship with our customers. Please reach out to us on DM with the issue you're facing and your contact details, we will look into it and assist you in best way possible.\">, <Tweet id=1564580377909284864 text='https://t.co/GwEH8DItYM'>, <Tweet id=1564580369738870784 text='Register Here: https://t.co/VKi8K4ryNT https://t.co/uQQm8FficK'>, <Tweet id=1564580358812618752 text='Kolkata, “City of Culture” we are coming to your town with the aim to expand our offline community and build a tech culture.\\nWe promise you a meetup to remember with #Codersoffline.\\n\\n#CreateImpact'>, <Tweet id=1564568956379484162 text=\"@akshaym80707600 Hello Akshay Mehta. This is not the experience we aim to provide, and we value our relationship with our customers. Please reach out to us on DM with the issue you're facing and your contact details, we will look into it and assist you in best way possible.\">, <Tweet id=1564553905836548096 text=\"@Khushi_Ray_ Hi Khushi, we're super excited to see your interest in learning at Scaler! Please head over to the following link to register for a call back and our team will reach out to you soon: https://t.co/JLLo6waGLs\">, <Tweet id=1564501367288639488 text='From being schooled at a Hindi medium school in her hometown to landing her dream job as a Computer Scientist in Adobe, Mohini is happy with the return on investment she got by joining us. Hear her inspiring story. \\n\\n#BehindTheWin #SCALER #CreateImpact https://t.co/XdFw8DxR7X'>, <Tweet id=1564198253494673408 text='@_JyotiSharma__ help you out with any queries you may have. (2/2)'>, <Tweet id=1564198252961988608 text='@_JyotiSharma__ Hi Jyoti, science background is not required to enroll in this course. You can start from the Beginner module in which we will cover the basics of coding. Also, please share your contact details via support@scaler.com, so that our team can connect with you and (1/2)'>, <Tweet id=1564197801369780225 text='@Radha_Shingh_ you and help you out with any queries you may have. (2/2)'>, <Tweet id=1564197800853782529 text='@Radha_Shingh_ Hi Radha Shingh, coding background is not required to enroll in this course. You can start from the Beginner module in which we will cover the basics of coding. Also, please share your contact details via support@scaler.com, so that our team can connect with (1/2)'>, <Tweet id=1564197220982857731 text=\"@SonalShingh Hi Sonal, we're super excited to see your interest in learning at Scaler! Please head over to the following link to register for a call back and our team will reach out to you soon: https://t.co/JLLo6waGLs\">, <Tweet id=1564196914794577922 text=\"@_NeelamSharma_ Hi Neelam Sharma, we're super excited to see your interest in learning at Scaler! Please head over to the following link to register for a call back and our team will reach out to you soon: https://t.co/JLLo6waGLs\">, <Tweet id=1564196311104163841 text=\"@Nidhi_Roy_ Hi Nidhi, we're super excited to see your interest in learning at Scaler! We do conduct free live classes and you can head over to the following link to sign-up for them and to know more about them: https://t.co/5aljjkifyp\">, <Tweet id=1564195297869299715 text=\"@Im_Muskan___ Hi Muskan, we're super excited to see your interest in learning at Scaler! Please head over to the following link to register for a call back and our team will reach out to you soon: https://t.co/JLLo6waGLs\">], includes={}, errors=[], meta={'newest_id': '1566662157726523396', 'oldest_id': '1564195297869299715', 'result_count': 39})"
      ]
     },
     "execution_count": 20,
     "metadata": {},
     "output_type": "execute_result"
    }
   ],
   "source": [
    "tweets"
   ]
  },
  {
   "cell_type": "markdown",
   "id": "3260391f",
   "metadata": {},
   "source": [
    "# Get a list of the users Elon Musk is following"
   ]
  },
  {
   "cell_type": "code",
   "execution_count": 22,
   "id": "30ff2b31",
   "metadata": {},
   "outputs": [
    {
     "data": {
      "text/plain": [
       "Response(data=<User id=44196397 name=Elon Musk username=elonmusk>, includes={}, errors=[], meta={})"
      ]
     },
     "execution_count": 22,
     "metadata": {},
     "output_type": "execute_result"
    }
   ],
   "source": [
    "client.get_user(username=\"elonmusk\")"
   ]
  },
  {
   "cell_type": "code",
   "execution_count": 24,
   "id": "e74b9c36",
   "metadata": {},
   "outputs": [
    {
     "data": {
      "text/plain": [
       "100"
      ]
     },
     "execution_count": 24,
     "metadata": {},
     "output_type": "execute_result"
    }
   ],
   "source": [
    "following_list=client.get_users_following(id=\"44196397\")\n",
    "len(following_list.data)"
   ]
  },
  {
   "cell_type": "code",
   "execution_count": 25,
   "id": "702bd459",
   "metadata": {},
   "outputs": [],
   "source": [
    "query = \"#omicron -is:retweet\"\n",
    "\n",
    "data = {\n",
    "    'text': [],\n",
    "    'created_at': [],\n",
    "    'author_id': []\n",
    "}\n",
    "\n",
    "\n",
    "for tweet in tweepy.Paginator(client.search_recent_tweets, query=query,\n",
    "                             tweet_fields=['created_at', 'author_id'],\n",
    "                             max_results=100).flatten(1000):\n",
    "    data['text'].append(tweet.text)\n",
    "    data['created_at'].append(tweet.created_at)\n",
    "    data['author_id'].append(tweet.author_id)"
   ]
  },
  {
   "cell_type": "code",
   "execution_count": 26,
   "id": "ce657167",
   "metadata": {},
   "outputs": [
    {
     "data": {
      "text/html": [
       "<div>\n",
       "<style scoped>\n",
       "    .dataframe tbody tr th:only-of-type {\n",
       "        vertical-align: middle;\n",
       "    }\n",
       "\n",
       "    .dataframe tbody tr th {\n",
       "        vertical-align: top;\n",
       "    }\n",
       "\n",
       "    .dataframe thead th {\n",
       "        text-align: right;\n",
       "    }\n",
       "</style>\n",
       "<table border=\"1\" class=\"dataframe\">\n",
       "  <thead>\n",
       "    <tr style=\"text-align: right;\">\n",
       "      <th></th>\n",
       "      <th>text</th>\n",
       "      <th>created_at</th>\n",
       "      <th>author_id</th>\n",
       "    </tr>\n",
       "  </thead>\n",
       "  <tbody>\n",
       "    <tr>\n",
       "      <th>0</th>\n",
       "      <td>How omicron infection can be detected through ...</td>\n",
       "      <td>2022-09-05 05:53:19+00:00</td>\n",
       "      <td>1435568221289992196</td>\n",
       "    </tr>\n",
       "    <tr>\n",
       "      <th>1</th>\n",
       "      <td>The UK health authorities approved a second \"b...</td>\n",
       "      <td>2022-09-05 05:52:34+00:00</td>\n",
       "      <td>1483670843402387456</td>\n",
       "    </tr>\n",
       "    <tr>\n",
       "      <th>2</th>\n",
       "      <td>عالم روسي يتوقع ظهور متحور جديد من فيروس كورون...</td>\n",
       "      <td>2022-09-05 05:52:15+00:00</td>\n",
       "      <td>1284004846652325888</td>\n",
       "    </tr>\n",
       "    <tr>\n",
       "      <th>3</th>\n",
       "      <td>#Omicron-specific COVID boosters will be avail...</td>\n",
       "      <td>2022-09-05 05:43:00+00:00</td>\n",
       "      <td>3086109673</td>\n",
       "    </tr>\n",
       "    <tr>\n",
       "      <th>4</th>\n",
       "      <td>.0645z #HonigCLIP https://t.co/8i3UVyPJ95 #Bui...</td>\n",
       "      <td>2022-09-05 05:42:17+00:00</td>\n",
       "      <td>1251115879946952704</td>\n",
       "    </tr>\n",
       "  </tbody>\n",
       "</table>\n",
       "</div>"
      ],
      "text/plain": [
       "                                                text  \\\n",
       "0  How omicron infection can be detected through ...   \n",
       "1  The UK health authorities approved a second \"b...   \n",
       "2  عالم روسي يتوقع ظهور متحور جديد من فيروس كورون...   \n",
       "3  #Omicron-specific COVID boosters will be avail...   \n",
       "4  .0645z #HonigCLIP https://t.co/8i3UVyPJ95 #Bui...   \n",
       "\n",
       "                 created_at            author_id  \n",
       "0 2022-09-05 05:53:19+00:00  1435568221289992196  \n",
       "1 2022-09-05 05:52:34+00:00  1483670843402387456  \n",
       "2 2022-09-05 05:52:15+00:00  1284004846652325888  \n",
       "3 2022-09-05 05:43:00+00:00           3086109673  \n",
       "4 2022-09-05 05:42:17+00:00  1251115879946952704  "
      ]
     },
     "execution_count": 26,
     "metadata": {},
     "output_type": "execute_result"
    }
   ],
   "source": [
    "import pandas as pd\n",
    "df=pd.DataFrame(data)\n",
    "df.head()"
   ]
  },
  {
   "cell_type": "code",
   "execution_count": 27,
   "id": "0a549b04",
   "metadata": {},
   "outputs": [],
   "source": [
    "df.to_csv(\"tweets.csv\",index=False)"
   ]
  },
  {
   "cell_type": "code",
   "execution_count": 28,
   "id": "2634c64e",
   "metadata": {},
   "outputs": [
    {
     "name": "stdout",
     "output_type": "stream",
     "text": [
      "Requirement already satisfied: nbconvert in c:\\users\\gadir\\anaconda3\\lib\\site-packages (6.1.0)\n",
      "Requirement already satisfied: jinja2>=2.4 in c:\\users\\gadir\\anaconda3\\lib\\site-packages (from nbconvert) (2.11.3)\n",
      "Requirement already satisfied: jupyter-core in c:\\users\\gadir\\anaconda3\\lib\\site-packages (from nbconvert) (4.8.1)\n",
      "Requirement already satisfied: nbformat>=4.4 in c:\\users\\gadir\\anaconda3\\lib\\site-packages (from nbconvert) (5.1.3)\n",
      "Requirement already satisfied: bleach in c:\\users\\gadir\\anaconda3\\lib\\site-packages (from nbconvert) (4.0.0)\n",
      "Requirement already satisfied: pygments>=2.4.1 in c:\\users\\gadir\\anaconda3\\lib\\site-packages (from nbconvert) (2.10.0)\n",
      "Requirement already satisfied: testpath in c:\\users\\gadir\\anaconda3\\lib\\site-packages (from nbconvert) (0.5.0)\n",
      "Requirement already satisfied: nbclient<0.6.0,>=0.5.0 in c:\\users\\gadir\\anaconda3\\lib\\site-packages (from nbconvert) (0.5.3)\n",
      "Requirement already satisfied: defusedxml in c:\\users\\gadir\\anaconda3\\lib\\site-packages (from nbconvert) (0.7.1)\n",
      "Requirement already satisfied: jupyterlab-pygments in c:\\users\\gadir\\anaconda3\\lib\\site-packages (from nbconvert) (0.1.2)\n",
      "Requirement already satisfied: entrypoints>=0.2.2 in c:\\users\\gadir\\anaconda3\\lib\\site-packages (from nbconvert) (0.3)\n",
      "Requirement already satisfied: pandocfilters>=1.4.1 in c:\\users\\gadir\\anaconda3\\lib\\site-packages (from nbconvert) (1.4.3)\n",
      "Requirement already satisfied: traitlets>=5.0 in c:\\users\\gadir\\anaconda3\\lib\\site-packages (from nbconvert) (5.1.0)\n",
      "Requirement already satisfied: mistune<2,>=0.8.1 in c:\\users\\gadir\\anaconda3\\lib\\site-packages (from nbconvert) (0.8.4)\n",
      "Requirement already satisfied: MarkupSafe>=0.23 in c:\\users\\gadir\\anaconda3\\lib\\site-packages (from jinja2>=2.4->nbconvert) (1.1.1)\n",
      "Requirement already satisfied: nest-asyncio in c:\\users\\gadir\\anaconda3\\lib\\site-packages (from nbclient<0.6.0,>=0.5.0->nbconvert) (1.5.1)\n",
      "Requirement already satisfied: jupyter-client>=6.1.5 in c:\\users\\gadir\\anaconda3\\lib\\site-packages (from nbclient<0.6.0,>=0.5.0->nbconvert) (6.1.12)\n",
      "Requirement already satisfied: async-generator in c:\\users\\gadir\\anaconda3\\lib\\site-packages (from nbclient<0.6.0,>=0.5.0->nbconvert) (1.10)\n",
      "Requirement already satisfied: pyzmq>=13 in c:\\users\\gadir\\anaconda3\\lib\\site-packages (from jupyter-client>=6.1.5->nbclient<0.6.0,>=0.5.0->nbconvert) (22.2.1)\n",
      "Requirement already satisfied: python-dateutil>=2.1 in c:\\users\\gadir\\anaconda3\\lib\\site-packages (from jupyter-client>=6.1.5->nbclient<0.6.0,>=0.5.0->nbconvert) (2.8.2)\n",
      "Requirement already satisfied: tornado>=4.1 in c:\\users\\gadir\\anaconda3\\lib\\site-packages (from jupyter-client>=6.1.5->nbclient<0.6.0,>=0.5.0->nbconvert) (6.1)\n",
      "Requirement already satisfied: pywin32>=1.0 in c:\\users\\gadir\\anaconda3\\lib\\site-packages (from jupyter-core->nbconvert) (228)\n",
      "Requirement already satisfied: ipython-genutils in c:\\users\\gadir\\anaconda3\\lib\\site-packages (from nbformat>=4.4->nbconvert) (0.2.0)\n",
      "Requirement already satisfied: jsonschema!=2.5.0,>=2.4 in c:\\users\\gadir\\anaconda3\\lib\\site-packages (from nbformat>=4.4->nbconvert) (3.2.0)\n",
      "Requirement already satisfied: attrs>=17.4.0 in c:\\users\\gadir\\anaconda3\\lib\\site-packages (from jsonschema!=2.5.0,>=2.4->nbformat>=4.4->nbconvert) (21.2.0)\n",
      "Requirement already satisfied: setuptools in c:\\users\\gadir\\anaconda3\\lib\\site-packages (from jsonschema!=2.5.0,>=2.4->nbformat>=4.4->nbconvert) (58.0.4)\n",
      "Requirement already satisfied: six>=1.11.0 in c:\\users\\gadir\\anaconda3\\lib\\site-packages (from jsonschema!=2.5.0,>=2.4->nbformat>=4.4->nbconvert) (1.16.0)\n",
      "Requirement already satisfied: pyrsistent>=0.14.0 in c:\\users\\gadir\\anaconda3\\lib\\site-packages (from jsonschema!=2.5.0,>=2.4->nbformat>=4.4->nbconvert) (0.18.0)\n",
      "Requirement already satisfied: webencodings in c:\\users\\gadir\\anaconda3\\lib\\site-packages (from bleach->nbconvert) (0.5.1)\n",
      "Requirement already satisfied: packaging in c:\\users\\gadir\\anaconda3\\lib\\site-packages (from bleach->nbconvert) (21.0)\n",
      "Requirement already satisfied: pyparsing>=2.0.2 in c:\\users\\gadir\\anaconda3\\lib\\site-packages (from packaging->bleach->nbconvert) (3.0.4)\n",
      "Note: you may need to restart the kernel to use updated packages.\n"
     ]
    }
   ],
   "source": [
    "pip install nbconvert"
   ]
  },
  {
   "cell_type": "code",
   "execution_count": null,
   "id": "3de7cb09",
   "metadata": {},
   "outputs": [],
   "source": []
  }
 ],
 "metadata": {
  "kernelspec": {
   "display_name": "Python 3 (ipykernel)",
   "language": "python",
   "name": "python3"
  },
  "language_info": {
   "codemirror_mode": {
    "name": "ipython",
    "version": 3
   },
   "file_extension": ".py",
   "mimetype": "text/x-python",
   "name": "python",
   "nbconvert_exporter": "python",
   "pygments_lexer": "ipython3",
   "version": "3.9.7"
  }
 },
 "nbformat": 4,
 "nbformat_minor": 5
}
